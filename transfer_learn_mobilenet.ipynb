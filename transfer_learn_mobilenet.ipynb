{
  "nbformat": 4,
  "nbformat_minor": 0,
  "metadata": {
    "colab": {
      "name": "Copy of transfer-learn-mobilenet.ipynb",
      "provenance": [],
      "collapsed_sections": []
    },
    "kernelspec": {
      "name": "python3",
      "display_name": "Python 3"
    },
    "language_info": {
      "name": "python"
    },
    "accelerator": "GPU"
  },
  "cells": [
    {
      "cell_type": "markdown",
      "source": [
        "# Food Image Classification with Tensorflow"
      ],
      "metadata": {
        "id": "jWKGLZ2HvDhL"
      }
    },
    {
      "cell_type": "markdown",
      "source": [
        "## Load Food Images Dataset\n",
        "First, we need to download Food Images Dataset from google drive.\n"
      ],
      "metadata": {
        "id": "-jQgO7G5uxhD"
      }
    },
    {
      "cell_type": "code",
      "execution_count": 1,
      "metadata": {
        "id": "OodG_A2u1ms0",
        "colab": {
          "base_uri": "https://localhost:8080/"
        },
        "outputId": "cc982b63-a716-450d-a52f-4a56a57044b3"
      },
      "outputs": [
        {
          "output_type": "stream",
          "name": "stdout",
          "text": [
            "Downloading...\n",
            "From: https://drive.google.com/uc?id=1ViO8VfaZ_MpvGVFnRzVrbowSVP2D9Ys0\n",
            "To: /content/food.zip\n",
            "100% 3.73G/3.73G [00:26<00:00, 140MB/s] \n"
          ]
        }
      ],
      "source": [
        "!gdown 1ViO8VfaZ_MpvGVFnRzVrbowSVP2D9Ys0"
      ]
    },
    {
      "cell_type": "code",
      "source": [
        "import zipfile\n",
        "import os\n",
        "import shutil\n",
        "import random\n",
        "\n",
        "# Unzip the dataset\n",
        "local_zip = './food.zip'\n",
        "zip_ref = zipfile.ZipFile(local_zip, 'r')\n",
        "zip_ref.extractall('./images')\n",
        "zip_ref.close()"
      ],
      "metadata": {
        "id": "O_efjxJJpNLN"
      },
      "execution_count": 2,
      "outputs": []
    },
    {
      "cell_type": "code",
      "source": [
        "!rm food.zip"
      ],
      "metadata": {
        "id": "gQSpGNDrKVk3"
      },
      "execution_count": 3,
      "outputs": []
    },
    {
      "cell_type": "code",
      "source": [
        "foods = os.listdir('images')"
      ],
      "metadata": {
        "id": "ss_22Dp0rMNm"
      },
      "execution_count": 4,
      "outputs": []
    },
    {
      "cell_type": "markdown",
      "source": [
        "## Split Dataset into Train, Valid, and Test"
      ],
      "metadata": {
        "id": "8fOl-N5Z-Ub_"
      }
    },
    {
      "cell_type": "code",
      "source": [
        "# Assign training and validation set directories\n",
        "base_dir = 'data'\n",
        "train_dir = os.path.join(base_dir, 'train')\n",
        "valid_dir = os.path.join(base_dir, 'valid')\n",
        "test_dir = os.path.join(base_dir, 'test')\n",
        "\n",
        "# Directory with training pictures\n",
        "train_dirs = [os.path.join(train_dir, str(food)) for food in foods]\n",
        "\n",
        "# Directory with validation pictures\n",
        "valid_dirs = [os.path.join(valid_dir, str(food)) for food in foods]\n",
        "\n",
        "# Directory with test pictures\n",
        "test_dirs = [os.path.join(test_dir, str(food)) for food in foods]"
      ],
      "metadata": {
        "id": "3gg4wTIlqzMR"
      },
      "execution_count": 5,
      "outputs": []
    },
    {
      "cell_type": "code",
      "source": [
        "for dir in train_dirs+valid_dirs+test_dirs:\n",
        "    try:\n",
        "        os.makedirs(dir)\n",
        "    except:\n",
        "        pass"
      ],
      "metadata": {
        "id": "QVY7uW8Eq_tu"
      },
      "execution_count": 6,
      "outputs": []
    },
    {
      "cell_type": "code",
      "source": [
        "def split_data(source, train, valid, test, split=[80,15,5]):\n",
        "    \"\"\"Split dataset into train, valid, and test.\"\"\"\n",
        "    files = os.listdir(source)\n",
        "    files = random.sample(files, len(files))\n",
        "    train_num = int((split[0]/sum(split))*len(files))\n",
        "    valid_num = int((split[1]/sum(split))*len(files))\n",
        "    for file in files:\n",
        "        if len(os.listdir(train)) < train_num:\n",
        "            shutil.copy(os.path.join(source, file), train)\n",
        "        elif len(os.listdir(valid)) < valid_num:\n",
        "            shutil.copy(os.path.join(source, file), valid)\n",
        "        else:\n",
        "            shutil.copy(os.path.join(source, file), test)"
      ],
      "metadata": {
        "id": "bg5iAjqLr51s"
      },
      "execution_count": 7,
      "outputs": []
    },
    {
      "cell_type": "code",
      "source": [
        "for i, food in enumerate(foods):\n",
        "    split_data(f'images/{food}/', train_dirs[i], valid_dirs[i], test_dirs[i])"
      ],
      "metadata": {
        "id": "w9h_TGHmsbeB"
      },
      "execution_count": 8,
      "outputs": []
    },
    {
      "cell_type": "code",
      "source": [
        "train_path = 'data/train'\n",
        "valid_path = 'data/valid'\n",
        "test_path = 'data/test'"
      ],
      "metadata": {
        "id": "_JLeyp7cuKwX"
      },
      "execution_count": 9,
      "outputs": []
    },
    {
      "cell_type": "markdown",
      "source": [
        "## Build Transfer Learning Model\n",
        "We use Mobilenet V2 as base model, we only use part of its layers, and add Dense layer on the bottom of that."
      ],
      "metadata": {
        "id": "1-AXFOUI_PCY"
      }
    },
    {
      "cell_type": "code",
      "source": [
        "import numpy as np\n",
        "import tensorflow as tf\n",
        "from tensorflow.keras import layers\n",
        "from tensorflow.keras.preprocessing.image import ImageDataGenerator\n",
        "from tensorflow.keras.models import Model\n",
        "from tensorflow.keras.applications import imagenet_utils\n",
        "from sklearn.metrics import confusion_matrix\n",
        "import itertools\n",
        "import matplotlib.pyplot as plt\n",
        "%matplotlib inline"
      ],
      "metadata": {
        "id": "JQbdqNuwfDCx"
      },
      "execution_count": 10,
      "outputs": []
    },
    {
      "cell_type": "markdown",
      "source": [
        "Build dataset to feed the model."
      ],
      "metadata": {
        "id": "mdxLuXTXATSS"
      }
    },
    {
      "cell_type": "code",
      "source": [
        "train_datagen = ImageDataGenerator(\n",
        "                  preprocessing_function=tf.keras.applications.mobilenet.preprocess_input).\\\n",
        "                  flow_from_directory(\n",
        "                  directory=train_path, target_size=(224,224), batch_size=10)\n",
        "\n",
        "valid_datagen = ImageDataGenerator(\n",
        "                  preprocessing_function=tf.keras.applications.mobilenet.preprocess_input).\\\n",
        "                  flow_from_directory(\n",
        "                  directory=valid_path, target_size=(224,224), batch_size=10)\n",
        "\n",
        "test_datagen = ImageDataGenerator(\n",
        "                  preprocessing_function=tf.keras.applications.mobilenet.preprocess_input).\\\n",
        "                  flow_from_directory(\n",
        "                  directory=test_path, target_size=(224,224), batch_size=10, shuffle=False)"
      ],
      "metadata": {
        "id": "6WV179A4fnrp",
        "colab": {
          "base_uri": "https://localhost:8080/"
        },
        "outputId": "518469bf-f893-4a59-f539-0b1e66777611"
      },
      "execution_count": 17,
      "outputs": [
        {
          "output_type": "stream",
          "name": "stdout",
          "text": [
            "Found 7838 images belonging to 49 classes.\n",
            "Found 1469 images belonging to 49 classes.\n",
            "Found 490 images belonging to 49 classes.\n"
          ]
        }
      ]
    },
    {
      "cell_type": "code",
      "source": [
        "mobile = tf.keras.applications.mobilenet.MobileNet()"
      ],
      "metadata": {
        "id": "Wb-2seKKgPMh"
      },
      "execution_count": null,
      "outputs": []
    },
    {
      "cell_type": "code",
      "source": [
        "# mobile.summary()"
      ],
      "metadata": {
        "id": "71lSPtP7gVti"
      },
      "execution_count": null,
      "outputs": []
    },
    {
      "cell_type": "code",
      "source": [
        "x = mobile.layers[-5].output\n",
        "x = layers.Reshape((1024,))(x)\n",
        "output = layers.Dense(49, activation='softmax')(x)"
      ],
      "metadata": {
        "id": "59vo8zW9gYcw"
      },
      "execution_count": null,
      "outputs": []
    },
    {
      "cell_type": "code",
      "source": [
        "model = Model(inputs=mobile.input, outputs=output)"
      ],
      "metadata": {
        "id": "v2y2W83agix8"
      },
      "execution_count": null,
      "outputs": []
    },
    {
      "cell_type": "code",
      "source": [
        "for layer in model.layers[:-23]:\n",
        "  layer.trainable = False"
      ],
      "metadata": {
        "id": "Ezpm5d1Tgkb0"
      },
      "execution_count": null,
      "outputs": []
    },
    {
      "cell_type": "code",
      "source": [
        "model.summary()"
      ],
      "metadata": {
        "colab": {
          "base_uri": "https://localhost:8080/"
        },
        "id": "r948JalhgoQz",
        "outputId": "eeb60a8c-b810-47e6-dd11-d8f9aaa78edf"
      },
      "execution_count": null,
      "outputs": [
        {
          "output_type": "stream",
          "name": "stdout",
          "text": [
            "Model: \"model_2\"\n",
            "_________________________________________________________________\n",
            " Layer (type)                Output Shape              Param #   \n",
            "=================================================================\n",
            " input_3 (InputLayer)        [(None, 224, 224, 3)]     0         \n",
            "                                                                 \n",
            " conv1 (Conv2D)              (None, 112, 112, 32)      864       \n",
            "                                                                 \n",
            " conv1_bn (BatchNormalizatio  (None, 112, 112, 32)     128       \n",
            " n)                                                              \n",
            "                                                                 \n",
            " conv1_relu (ReLU)           (None, 112, 112, 32)      0         \n",
            "                                                                 \n",
            " conv_dw_1 (DepthwiseConv2D)  (None, 112, 112, 32)     288       \n",
            "                                                                 \n",
            " conv_dw_1_bn (BatchNormaliz  (None, 112, 112, 32)     128       \n",
            " ation)                                                          \n",
            "                                                                 \n",
            " conv_dw_1_relu (ReLU)       (None, 112, 112, 32)      0         \n",
            "                                                                 \n",
            " conv_pw_1 (Conv2D)          (None, 112, 112, 64)      2048      \n",
            "                                                                 \n",
            " conv_pw_1_bn (BatchNormaliz  (None, 112, 112, 64)     256       \n",
            " ation)                                                          \n",
            "                                                                 \n",
            " conv_pw_1_relu (ReLU)       (None, 112, 112, 64)      0         \n",
            "                                                                 \n",
            " conv_pad_2 (ZeroPadding2D)  (None, 113, 113, 64)      0         \n",
            "                                                                 \n",
            " conv_dw_2 (DepthwiseConv2D)  (None, 56, 56, 64)       576       \n",
            "                                                                 \n",
            " conv_dw_2_bn (BatchNormaliz  (None, 56, 56, 64)       256       \n",
            " ation)                                                          \n",
            "                                                                 \n",
            " conv_dw_2_relu (ReLU)       (None, 56, 56, 64)        0         \n",
            "                                                                 \n",
            " conv_pw_2 (Conv2D)          (None, 56, 56, 128)       8192      \n",
            "                                                                 \n",
            " conv_pw_2_bn (BatchNormaliz  (None, 56, 56, 128)      512       \n",
            " ation)                                                          \n",
            "                                                                 \n",
            " conv_pw_2_relu (ReLU)       (None, 56, 56, 128)       0         \n",
            "                                                                 \n",
            " conv_dw_3 (DepthwiseConv2D)  (None, 56, 56, 128)      1152      \n",
            "                                                                 \n",
            " conv_dw_3_bn (BatchNormaliz  (None, 56, 56, 128)      512       \n",
            " ation)                                                          \n",
            "                                                                 \n",
            " conv_dw_3_relu (ReLU)       (None, 56, 56, 128)       0         \n",
            "                                                                 \n",
            " conv_pw_3 (Conv2D)          (None, 56, 56, 128)       16384     \n",
            "                                                                 \n",
            " conv_pw_3_bn (BatchNormaliz  (None, 56, 56, 128)      512       \n",
            " ation)                                                          \n",
            "                                                                 \n",
            " conv_pw_3_relu (ReLU)       (None, 56, 56, 128)       0         \n",
            "                                                                 \n",
            " conv_pad_4 (ZeroPadding2D)  (None, 57, 57, 128)       0         \n",
            "                                                                 \n",
            " conv_dw_4 (DepthwiseConv2D)  (None, 28, 28, 128)      1152      \n",
            "                                                                 \n",
            " conv_dw_4_bn (BatchNormaliz  (None, 28, 28, 128)      512       \n",
            " ation)                                                          \n",
            "                                                                 \n",
            " conv_dw_4_relu (ReLU)       (None, 28, 28, 128)       0         \n",
            "                                                                 \n",
            " conv_pw_4 (Conv2D)          (None, 28, 28, 256)       32768     \n",
            "                                                                 \n",
            " conv_pw_4_bn (BatchNormaliz  (None, 28, 28, 256)      1024      \n",
            " ation)                                                          \n",
            "                                                                 \n",
            " conv_pw_4_relu (ReLU)       (None, 28, 28, 256)       0         \n",
            "                                                                 \n",
            " conv_dw_5 (DepthwiseConv2D)  (None, 28, 28, 256)      2304      \n",
            "                                                                 \n",
            " conv_dw_5_bn (BatchNormaliz  (None, 28, 28, 256)      1024      \n",
            " ation)                                                          \n",
            "                                                                 \n",
            " conv_dw_5_relu (ReLU)       (None, 28, 28, 256)       0         \n",
            "                                                                 \n",
            " conv_pw_5 (Conv2D)          (None, 28, 28, 256)       65536     \n",
            "                                                                 \n",
            " conv_pw_5_bn (BatchNormaliz  (None, 28, 28, 256)      1024      \n",
            " ation)                                                          \n",
            "                                                                 \n",
            " conv_pw_5_relu (ReLU)       (None, 28, 28, 256)       0         \n",
            "                                                                 \n",
            " conv_pad_6 (ZeroPadding2D)  (None, 29, 29, 256)       0         \n",
            "                                                                 \n",
            " conv_dw_6 (DepthwiseConv2D)  (None, 14, 14, 256)      2304      \n",
            "                                                                 \n",
            " conv_dw_6_bn (BatchNormaliz  (None, 14, 14, 256)      1024      \n",
            " ation)                                                          \n",
            "                                                                 \n",
            " conv_dw_6_relu (ReLU)       (None, 14, 14, 256)       0         \n",
            "                                                                 \n",
            " conv_pw_6 (Conv2D)          (None, 14, 14, 512)       131072    \n",
            "                                                                 \n",
            " conv_pw_6_bn (BatchNormaliz  (None, 14, 14, 512)      2048      \n",
            " ation)                                                          \n",
            "                                                                 \n",
            " conv_pw_6_relu (ReLU)       (None, 14, 14, 512)       0         \n",
            "                                                                 \n",
            " conv_dw_7 (DepthwiseConv2D)  (None, 14, 14, 512)      4608      \n",
            "                                                                 \n",
            " conv_dw_7_bn (BatchNormaliz  (None, 14, 14, 512)      2048      \n",
            " ation)                                                          \n",
            "                                                                 \n",
            " conv_dw_7_relu (ReLU)       (None, 14, 14, 512)       0         \n",
            "                                                                 \n",
            " conv_pw_7 (Conv2D)          (None, 14, 14, 512)       262144    \n",
            "                                                                 \n",
            " conv_pw_7_bn (BatchNormaliz  (None, 14, 14, 512)      2048      \n",
            " ation)                                                          \n",
            "                                                                 \n",
            " conv_pw_7_relu (ReLU)       (None, 14, 14, 512)       0         \n",
            "                                                                 \n",
            " conv_dw_8 (DepthwiseConv2D)  (None, 14, 14, 512)      4608      \n",
            "                                                                 \n",
            " conv_dw_8_bn (BatchNormaliz  (None, 14, 14, 512)      2048      \n",
            " ation)                                                          \n",
            "                                                                 \n",
            " conv_dw_8_relu (ReLU)       (None, 14, 14, 512)       0         \n",
            "                                                                 \n",
            " conv_pw_8 (Conv2D)          (None, 14, 14, 512)       262144    \n",
            "                                                                 \n",
            " conv_pw_8_bn (BatchNormaliz  (None, 14, 14, 512)      2048      \n",
            " ation)                                                          \n",
            "                                                                 \n",
            " conv_pw_8_relu (ReLU)       (None, 14, 14, 512)       0         \n",
            "                                                                 \n",
            " conv_dw_9 (DepthwiseConv2D)  (None, 14, 14, 512)      4608      \n",
            "                                                                 \n",
            " conv_dw_9_bn (BatchNormaliz  (None, 14, 14, 512)      2048      \n",
            " ation)                                                          \n",
            "                                                                 \n",
            " conv_dw_9_relu (ReLU)       (None, 14, 14, 512)       0         \n",
            "                                                                 \n",
            " conv_pw_9 (Conv2D)          (None, 14, 14, 512)       262144    \n",
            "                                                                 \n",
            " conv_pw_9_bn (BatchNormaliz  (None, 14, 14, 512)      2048      \n",
            " ation)                                                          \n",
            "                                                                 \n",
            " conv_pw_9_relu (ReLU)       (None, 14, 14, 512)       0         \n",
            "                                                                 \n",
            " conv_dw_10 (DepthwiseConv2D  (None, 14, 14, 512)      4608      \n",
            " )                                                               \n",
            "                                                                 \n",
            " conv_dw_10_bn (BatchNormali  (None, 14, 14, 512)      2048      \n",
            " zation)                                                         \n",
            "                                                                 \n",
            " conv_dw_10_relu (ReLU)      (None, 14, 14, 512)       0         \n",
            "                                                                 \n",
            " conv_pw_10 (Conv2D)         (None, 14, 14, 512)       262144    \n",
            "                                                                 \n",
            " conv_pw_10_bn (BatchNormali  (None, 14, 14, 512)      2048      \n",
            " zation)                                                         \n",
            "                                                                 \n",
            " conv_pw_10_relu (ReLU)      (None, 14, 14, 512)       0         \n",
            "                                                                 \n",
            " conv_dw_11 (DepthwiseConv2D  (None, 14, 14, 512)      4608      \n",
            " )                                                               \n",
            "                                                                 \n",
            " conv_dw_11_bn (BatchNormali  (None, 14, 14, 512)      2048      \n",
            " zation)                                                         \n",
            "                                                                 \n",
            " conv_dw_11_relu (ReLU)      (None, 14, 14, 512)       0         \n",
            "                                                                 \n",
            " conv_pw_11 (Conv2D)         (None, 14, 14, 512)       262144    \n",
            "                                                                 \n",
            " conv_pw_11_bn (BatchNormali  (None, 14, 14, 512)      2048      \n",
            " zation)                                                         \n",
            "                                                                 \n",
            " conv_pw_11_relu (ReLU)      (None, 14, 14, 512)       0         \n",
            "                                                                 \n",
            " conv_pad_12 (ZeroPadding2D)  (None, 15, 15, 512)      0         \n",
            "                                                                 \n",
            " conv_dw_12 (DepthwiseConv2D  (None, 7, 7, 512)        4608      \n",
            " )                                                               \n",
            "                                                                 \n",
            " conv_dw_12_bn (BatchNormali  (None, 7, 7, 512)        2048      \n",
            " zation)                                                         \n",
            "                                                                 \n",
            " conv_dw_12_relu (ReLU)      (None, 7, 7, 512)         0         \n",
            "                                                                 \n",
            " conv_pw_12 (Conv2D)         (None, 7, 7, 1024)        524288    \n",
            "                                                                 \n",
            " conv_pw_12_bn (BatchNormali  (None, 7, 7, 1024)       4096      \n",
            " zation)                                                         \n",
            "                                                                 \n",
            " conv_pw_12_relu (ReLU)      (None, 7, 7, 1024)        0         \n",
            "                                                                 \n",
            " conv_dw_13 (DepthwiseConv2D  (None, 7, 7, 1024)       9216      \n",
            " )                                                               \n",
            "                                                                 \n",
            " conv_dw_13_bn (BatchNormali  (None, 7, 7, 1024)       4096      \n",
            " zation)                                                         \n",
            "                                                                 \n",
            " conv_dw_13_relu (ReLU)      (None, 7, 7, 1024)        0         \n",
            "                                                                 \n",
            " conv_pw_13 (Conv2D)         (None, 7, 7, 1024)        1048576   \n",
            "                                                                 \n",
            " conv_pw_13_bn (BatchNormali  (None, 7, 7, 1024)       4096      \n",
            " zation)                                                         \n",
            "                                                                 \n",
            " conv_pw_13_relu (ReLU)      (None, 7, 7, 1024)        0         \n",
            "                                                                 \n",
            " global_average_pooling2d_2   (None, 1, 1, 1024)       0         \n",
            " (GlobalAveragePooling2D)                                        \n",
            "                                                                 \n",
            " reshape_2 (Reshape)         (None, 1024)              0         \n",
            "                                                                 \n",
            " dense_2 (Dense)             (None, 49)                50225     \n",
            "                                                                 \n",
            "=================================================================\n",
            "Total params: 3,279,089\n",
            "Trainable params: 1,912,881\n",
            "Non-trainable params: 1,366,208\n",
            "_________________________________________________________________\n"
          ]
        }
      ]
    },
    {
      "cell_type": "code",
      "source": [
        "from tensorflow.keras.optimizers import Adam"
      ],
      "metadata": {
        "id": "KOAAwoKKgp61"
      },
      "execution_count": null,
      "outputs": []
    },
    {
      "cell_type": "code",
      "source": [
        "model.compile(optimizer=Adam(learning_rate=1e-4),\n",
        "              loss='categorical_crossentropy',\n",
        "              metrics=['accuracy'])"
      ],
      "metadata": {
        "id": "Y6ogVO9PgvPR"
      },
      "execution_count": null,
      "outputs": []
    },
    {
      "cell_type": "code",
      "source": [
        "history = model.fit(train_datagen,\n",
        "             validation_data=valid_datagen,\n",
        "             epochs=30,\n",
        "             verbose=1)"
      ],
      "metadata": {
        "colab": {
          "base_uri": "https://localhost:8080/"
        },
        "id": "3ZWFVuGqg8W3",
        "outputId": "29bc7250-60df-481f-9836-ba935fec2495"
      },
      "execution_count": null,
      "outputs": [
        {
          "metadata": {
            "tags": null
          },
          "name": "stdout",
          "output_type": "stream",
          "text": [
            "Epoch 1/30\n",
            " 11/785 [..............................] - ETA: 3:39 - loss: 4.6920 - accuracy: 0.0364"
          ]
        },
        {
          "metadata": {
            "tags": null
          },
          "name": "stderr",
          "output_type": "stream",
          "text": [
            "/usr/local/lib/python3.7/dist-packages/PIL/TiffImagePlugin.py:788: UserWarning: Corrupt EXIF data.  Expecting to read 4 bytes but only got 0. \n",
            "  warnings.warn(str(msg))\n"
          ]
        },
        {
          "metadata": {
            "tags": null
          },
          "name": "stdout",
          "output_type": "stream",
          "text": [
            " 89/785 [==>...........................] - ETA: 3:52 - loss: 3.7762 - accuracy: 0.1067"
          ]
        },
        {
          "metadata": {
            "tags": null
          },
          "name": "stderr",
          "output_type": "stream",
          "text": [
            "/usr/local/lib/python3.7/dist-packages/PIL/Image.py:960: UserWarning: Palette images with Transparency expressed in bytes should be converted to RGBA images\n",
            "  \"Palette images with Transparency expressed in bytes should be \"\n"
          ]
        },
        {
          "metadata": {
            "tags": null
          },
          "name": "stdout",
          "output_type": "stream",
          "text": [
            "427/785 [===============>..............] - ETA: 2:01 - loss: 2.5440 - accuracy: 0.3731"
          ]
        },
        {
          "metadata": {
            "tags": null
          },
          "name": "stderr",
          "output_type": "stream",
          "text": [
            "/usr/local/lib/python3.7/dist-packages/PIL/TiffImagePlugin.py:770: UserWarning: Possibly corrupt EXIF data.  Expecting to read 12 bytes but only got 10. Skipping tag 42037\n",
            "  \" Skipping tag %s\" % (size, len(data), tag)\n"
          ]
        },
        {
          "output_type": "stream",
          "name": "stdout",
          "text": [
            "785/785 [==============================] - 311s 394ms/step - loss: 2.0897 - accuracy: 0.4732 - val_loss: 1.2475 - val_accuracy: 0.6610\n",
            "Epoch 2/30\n",
            "785/785 [==============================] - 308s 392ms/step - loss: 0.9214 - accuracy: 0.7689 - val_loss: 1.0221 - val_accuracy: 0.7347\n",
            "Epoch 3/30\n",
            "785/785 [==============================] - 306s 390ms/step - loss: 0.5972 - accuracy: 0.8629 - val_loss: 0.9221 - val_accuracy: 0.7538\n",
            "Epoch 4/30\n",
            "785/785 [==============================] - 307s 391ms/step - loss: 0.3741 - accuracy: 0.9273 - val_loss: 0.8921 - val_accuracy: 0.7633\n",
            "Epoch 5/30\n",
            "785/785 [==============================] - 306s 390ms/step - loss: 0.2437 - accuracy: 0.9594 - val_loss: 0.8932 - val_accuracy: 0.7769\n",
            "Epoch 6/30\n",
            "785/785 [==============================] - 306s 390ms/step - loss: 0.1618 - accuracy: 0.9795 - val_loss: 0.8860 - val_accuracy: 0.7756\n",
            "Epoch 7/30\n",
            "785/785 [==============================] - 308s 392ms/step - loss: 0.1083 - accuracy: 0.9907 - val_loss: 0.8982 - val_accuracy: 0.7715\n",
            "Epoch 8/30\n",
            "785/785 [==============================] - 307s 391ms/step - loss: 0.0805 - accuracy: 0.9920 - val_loss: 0.9003 - val_accuracy: 0.7660\n",
            "Epoch 9/30\n",
            "785/785 [==============================] - 307s 391ms/step - loss: 0.0605 - accuracy: 0.9941 - val_loss: 0.9693 - val_accuracy: 0.7578\n",
            "Epoch 10/30\n",
            "785/785 [==============================] - 308s 393ms/step - loss: 0.0522 - accuracy: 0.9953 - val_loss: 0.9341 - val_accuracy: 0.7742\n",
            "Epoch 11/30\n",
            "785/785 [==============================] - 306s 391ms/step - loss: 0.0457 - accuracy: 0.9953 - val_loss: 1.0209 - val_accuracy: 0.7572\n",
            "Epoch 12/30\n",
            "785/785 [==============================] - 307s 391ms/step - loss: 0.0359 - accuracy: 0.9962 - val_loss: 0.9688 - val_accuracy: 0.7715\n",
            "Epoch 13/30\n",
            "785/785 [==============================] - 307s 391ms/step - loss: 0.0364 - accuracy: 0.9957 - val_loss: 1.0037 - val_accuracy: 0.7688\n",
            "Epoch 14/30\n",
            "785/785 [==============================] - 307s 391ms/step - loss: 0.0284 - accuracy: 0.9964 - val_loss: 0.9574 - val_accuracy: 0.7797\n",
            "Epoch 15/30\n",
            "785/785 [==============================] - 307s 391ms/step - loss: 0.0239 - accuracy: 0.9968 - val_loss: 0.9754 - val_accuracy: 0.7667\n",
            "Epoch 16/30\n",
            "785/785 [==============================] - 308s 392ms/step - loss: 0.0245 - accuracy: 0.9969 - val_loss: 1.0522 - val_accuracy: 0.7633\n",
            "Epoch 17/30\n",
            "785/785 [==============================] - 308s 392ms/step - loss: 0.0226 - accuracy: 0.9971 - val_loss: 1.0417 - val_accuracy: 0.7585\n",
            "Epoch 18/30\n",
            "785/785 [==============================] - 307s 391ms/step - loss: 0.0198 - accuracy: 0.9982 - val_loss: 1.0768 - val_accuracy: 0.7490\n",
            "Epoch 19/30\n",
            "785/785 [==============================] - 309s 394ms/step - loss: 0.0146 - accuracy: 0.9986 - val_loss: 1.0817 - val_accuracy: 0.7524\n",
            "Epoch 20/30\n",
            "785/785 [==============================] - 307s 392ms/step - loss: 0.0196 - accuracy: 0.9978 - val_loss: 0.9789 - val_accuracy: 0.7694\n",
            "Epoch 21/30\n",
            "785/785 [==============================] - 308s 392ms/step - loss: 0.0164 - accuracy: 0.9969 - val_loss: 1.1040 - val_accuracy: 0.7592\n",
            "Epoch 22/30\n",
            "785/785 [==============================] - 306s 390ms/step - loss: 0.0173 - accuracy: 0.9972 - val_loss: 1.0051 - val_accuracy: 0.7817\n",
            "Epoch 23/30\n",
            "785/785 [==============================] - 307s 391ms/step - loss: 0.0153 - accuracy: 0.9976 - val_loss: 1.0815 - val_accuracy: 0.7619\n",
            "Epoch 24/30\n",
            "785/785 [==============================] - 307s 391ms/step - loss: 0.0168 - accuracy: 0.9966 - val_loss: 1.0579 - val_accuracy: 0.7715\n",
            "Epoch 25/30\n",
            "785/785 [==============================] - 307s 391ms/step - loss: 0.0118 - accuracy: 0.9986 - val_loss: 1.0286 - val_accuracy: 0.7790\n",
            "Epoch 26/30\n",
            "785/785 [==============================] - 307s 391ms/step - loss: 0.0133 - accuracy: 0.9969 - val_loss: 1.1271 - val_accuracy: 0.7681\n",
            "Epoch 27/30\n",
            "785/785 [==============================] - 307s 392ms/step - loss: 0.0151 - accuracy: 0.9978 - val_loss: 1.1578 - val_accuracy: 0.7572\n",
            "Epoch 28/30\n",
            "785/785 [==============================] - 310s 395ms/step - loss: 0.0135 - accuracy: 0.9974 - val_loss: 1.1351 - val_accuracy: 0.7606\n",
            "Epoch 29/30\n",
            "785/785 [==============================] - 308s 393ms/step - loss: 0.0118 - accuracy: 0.9973 - val_loss: 1.1685 - val_accuracy: 0.7510\n",
            "Epoch 30/30\n",
            "785/785 [==============================] - 311s 396ms/step - loss: 0.0114 - accuracy: 0.9981 - val_loss: 1.0764 - val_accuracy: 0.7708\n"
          ]
        }
      ]
    },
    {
      "cell_type": "markdown",
      "source": [
        "Save the trained model as `saved_model` format."
      ],
      "metadata": {
        "id": "-j6clh79AyTu"
      }
    },
    {
      "cell_type": "code",
      "source": [
        "import time\n",
        "ts = int(time.time())\n",
        "file_path = f\"tf-models/img_classifier/{ts}/\"\n",
        "model.save(filepath=file_path, save_format='tf')"
      ],
      "metadata": {
        "id": "KroSB06lhBYl",
        "colab": {
          "base_uri": "https://localhost:8080/"
        },
        "outputId": "64d66d79-9813-4902-9894-07a44e06f78d"
      },
      "execution_count": null,
      "outputs": [
        {
          "output_type": "stream",
          "name": "stdout",
          "text": [
            "INFO:tensorflow:Assets written to: tf-models/img_classifier/1653575402/assets\n"
          ]
        }
      ]
    },
    {
      "cell_type": "code",
      "source": [
        "!zip -r /content/tf-models.zip /content/tf-models\n",
        "from google.colab import files\n",
        "files.download(\"/content/tf-models.zip\")"
      ],
      "metadata": {
        "colab": {
          "base_uri": "https://localhost:8080/",
          "height": 198
        },
        "id": "BoqyIgkGwFwv",
        "outputId": "95652706-818f-41d9-d22d-48cd737852ea"
      },
      "execution_count": null,
      "outputs": [
        {
          "output_type": "stream",
          "name": "stdout",
          "text": [
            "  adding: content/tf-models/ (stored 0%)\n",
            "  adding: content/tf-models/img_classifier/ (stored 0%)\n",
            "  adding: content/tf-models/img_classifier/1653575402/ (stored 0%)\n",
            "  adding: content/tf-models/img_classifier/1653575402/variables/ (stored 0%)\n",
            "  adding: content/tf-models/img_classifier/1653575402/variables/variables.index (deflated 77%)\n",
            "  adding: content/tf-models/img_classifier/1653575402/variables/variables.data-00000-of-00001 (deflated 8%)\n",
            "  adding: content/tf-models/img_classifier/1653575402/saved_model.pb (deflated 91%)\n",
            "  adding: content/tf-models/img_classifier/1653575402/assets/ (stored 0%)\n",
            "  adding: content/tf-models/img_classifier/1653575402/keras_metadata.pb (deflated 95%)\n"
          ]
        },
        {
          "output_type": "display_data",
          "data": {
            "text/plain": [
              "<IPython.core.display.Javascript object>"
            ],
            "application/javascript": [
              "\n",
              "    async function download(id, filename, size) {\n",
              "      if (!google.colab.kernel.accessAllowed) {\n",
              "        return;\n",
              "      }\n",
              "      const div = document.createElement('div');\n",
              "      const label = document.createElement('label');\n",
              "      label.textContent = `Downloading \"${filename}\": `;\n",
              "      div.appendChild(label);\n",
              "      const progress = document.createElement('progress');\n",
              "      progress.max = size;\n",
              "      div.appendChild(progress);\n",
              "      document.body.appendChild(div);\n",
              "\n",
              "      const buffers = [];\n",
              "      let downloaded = 0;\n",
              "\n",
              "      const channel = await google.colab.kernel.comms.open(id);\n",
              "      // Send a message to notify the kernel that we're ready.\n",
              "      channel.send({})\n",
              "\n",
              "      for await (const message of channel.messages) {\n",
              "        // Send a message to notify the kernel that we're ready.\n",
              "        channel.send({})\n",
              "        if (message.buffers) {\n",
              "          for (const buffer of message.buffers) {\n",
              "            buffers.push(buffer);\n",
              "            downloaded += buffer.byteLength;\n",
              "            progress.value = downloaded;\n",
              "          }\n",
              "        }\n",
              "      }\n",
              "      const blob = new Blob(buffers, {type: 'application/binary'});\n",
              "      const a = document.createElement('a');\n",
              "      a.href = window.URL.createObjectURL(blob);\n",
              "      a.download = filename;\n",
              "      div.appendChild(a);\n",
              "      a.click();\n",
              "      div.remove();\n",
              "    }\n",
              "  "
            ]
          },
          "metadata": {}
        },
        {
          "output_type": "display_data",
          "data": {
            "text/plain": [
              "<IPython.core.display.Javascript object>"
            ],
            "application/javascript": [
              "download(\"download_8f2f6a75-e62a-41d0-b4c4-ff16c654dcff\", \"tf-models.zip\", 26297599)"
            ]
          },
          "metadata": {}
        }
      ]
    },
    {
      "cell_type": "markdown",
      "source": [
        "## Load Downloaded Model"
      ],
      "metadata": {
        "id": "NhWLbSyHNp2g"
      }
    },
    {
      "cell_type": "code",
      "source": [
        "!gdown 1H7BSt2k9AVtXsIfipO6KA03WRyNufiDT"
      ],
      "metadata": {
        "colab": {
          "base_uri": "https://localhost:8080/"
        },
        "id": "4GLtIoP7ERUG",
        "outputId": "8488afd8-595b-4f70-fee9-3bf9546274a4"
      },
      "execution_count": 11,
      "outputs": [
        {
          "output_type": "stream",
          "name": "stdout",
          "text": [
            "Downloading...\n",
            "From: https://drive.google.com/uc?id=1H7BSt2k9AVtXsIfipO6KA03WRyNufiDT\n",
            "To: /content/tf-models.zip\n",
            "100% 26.3M/26.3M [00:00<00:00, 32.5MB/s]\n"
          ]
        }
      ]
    },
    {
      "cell_type": "code",
      "source": [
        "local_zip = './tf-models.zip'\n",
        "zip_ref = zipfile.ZipFile(local_zip, 'r')\n",
        "zip_ref.extractall('./..')\n",
        "zip_ref.close()"
      ],
      "metadata": {
        "id": "8ThUxkVAEgmg"
      },
      "execution_count": 14,
      "outputs": []
    },
    {
      "cell_type": "code",
      "source": [
        "model = tf.keras.models.load_model('tf-models/img_classifier/1653575402')\n",
        "\n",
        "# Check its architecture\n",
        "# model.summary()"
      ],
      "metadata": {
        "id": "AIV2AQccFHr8"
      },
      "execution_count": 41,
      "outputs": []
    },
    {
      "cell_type": "markdown",
      "source": [
        "## Evaluating Model on Test Data"
      ],
      "metadata": {
        "id": "WUOEGX7fONhH"
      }
    },
    {
      "cell_type": "code",
      "source": [
        "test_labels = test_datagen.classes"
      ],
      "metadata": {
        "id": "58oWCV24F-Za"
      },
      "execution_count": 18,
      "outputs": []
    },
    {
      "cell_type": "code",
      "source": [
        "predictions = model.predict(x=test_datagen, verbose=0)"
      ],
      "metadata": {
        "id": "sdU5ZoyeGIZD"
      },
      "execution_count": 19,
      "outputs": []
    },
    {
      "cell_type": "code",
      "source": [
        "cm = confusion_matrix(y_true=test_labels, \n",
        "                      y_pred=predictions.argmax(axis=1))"
      ],
      "metadata": {
        "id": "SY629crmGTpy"
      },
      "execution_count": 20,
      "outputs": []
    },
    {
      "cell_type": "code",
      "source": [
        "test_datagen.class_indices"
      ],
      "metadata": {
        "colab": {
          "base_uri": "https://localhost:8080/"
        },
        "id": "9mH7oKKKHDTk",
        "outputId": "2aefbbf7-751f-4f16-f71d-d41290f825b5"
      },
      "execution_count": 21,
      "outputs": [
        {
          "output_type": "execute_result",
          "data": {
            "text/plain": [
              "{'aseeda': 0,\n",
              " 'bakpao': 1,\n",
              " 'bakso': 2,\n",
              " 'bbopki': 3,\n",
              " 'bebek betutu': 4,\n",
              " 'biryani': 5,\n",
              " 'bubur ayam': 6,\n",
              " 'capcay': 7,\n",
              " 'fu yung hai': 8,\n",
              " 'gado-gado': 9,\n",
              " 'gudeg': 10,\n",
              " 'hotteok': 11,\n",
              " 'jalebi': 12,\n",
              " 'jjangmyeon': 13,\n",
              " 'kebab': 14,\n",
              " 'kerak telor': 15,\n",
              " 'kimbab': 16,\n",
              " 'kimchi': 17,\n",
              " 'kue keranjang': 18,\n",
              " 'kulfi': 19,\n",
              " 'laddu': 20,\n",
              " 'lumpia': 21,\n",
              " 'mandu': 22,\n",
              " 'manggo sticky rice': 23,\n",
              " 'mie goreng': 24,\n",
              " 'musakhan': 25,\n",
              " 'nasi goreng': 26,\n",
              " 'nasi hainam': 27,\n",
              " 'oden': 28,\n",
              " 'onigiri': 29,\n",
              " 'pempek': 30,\n",
              " 'pizza': 31,\n",
              " 'ramen': 32,\n",
              " 'rawon': 33,\n",
              " 'rendang': 34,\n",
              " 'roti maryam': 35,\n",
              " 'sambosa': 36,\n",
              " 'samosa': 37,\n",
              " 'sate': 38,\n",
              " 'siomay': 39,\n",
              " 'soto': 40,\n",
              " 'sushi': 41,\n",
              " 'tamagoyaki': 42,\n",
              " 'tempura': 43,\n",
              " 'tiramisu': 44,\n",
              " 'tofu': 45,\n",
              " 'tteokbokki': 46,\n",
              " 'udon': 47,\n",
              " 'yakitori': 48}"
            ]
          },
          "metadata": {},
          "execution_count": 21
        }
      ]
    },
    {
      "cell_type": "code",
      "source": [
        "from sklearn.metrics import accuracy_score, f1_score"
      ],
      "metadata": {
        "id": "OCyUzPODHMI4"
      },
      "execution_count": 32,
      "outputs": []
    },
    {
      "cell_type": "code",
      "source": [
        "F1 = f1_score(y_true=test_labels, y_pred=predictions.argmax(axis=1), average='weighted')\n",
        "accuracy = accuracy_score(y_true=test_labels, y_pred=predictions.argmax(axis=1))\n",
        "\n",
        "print(f'Model F1 Score :\\n {F1}')\n",
        "print(f'\\nModel Accuracy:\\n {accuracy}')"
      ],
      "metadata": {
        "colab": {
          "base_uri": "https://localhost:8080/"
        },
        "id": "dZhI3NvJHMq_",
        "outputId": "24b9396c-1596-4e57-fd59-309adc7c5554"
      },
      "execution_count": 40,
      "outputs": [
        {
          "output_type": "stream",
          "name": "stdout",
          "text": [
            "Model F1 Score :\n",
            " 0.9607486740424126\n",
            "\n",
            "Model Accuracy:\n",
            " 0.9612244897959183\n"
          ]
        }
      ]
    }
  ]
}